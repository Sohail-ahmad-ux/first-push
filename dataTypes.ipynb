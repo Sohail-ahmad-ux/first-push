{
 "cells": [
  {
   "cell_type": "code",
   "execution_count": null,
   "id": "5afedb16",
   "metadata": {},
   "outputs": [
    {
     "name": "stdout",
     "output_type": "stream",
     "text": [
      "hello\n",
      "['Apple', 'Blueberry', 'Cherry', 'Date', 'Elderberry']\n"
     ]
    }
   ],
   "source": [
    "print(\"hello\")\n",
    "fruits = [\"Apple\", \"Banana\", \"Cherry\", \"Date\", \"Elderberry\"]\n",
    "fruits.append(\"Fig\")\n",
    "fruits[1] = \"Blueberry\"\n",
    "fruits.pop()\n",
    "print(fruits)"
   ]
  },
  {
   "cell_type": "markdown",
   "id": "536fd1ea",
   "metadata": {},
   "source": [
    "list:\n",
    "Sum of Numbers in a List\n",
    "Task:\n",
    "\n",
    "Create a list of 5 numbers.\n",
    "\n",
    "Find the sum of all elements using a loop."
   ]
  },
  {
   "cell_type": "code",
   "execution_count": 2,
   "id": "ff2cbc6f",
   "metadata": {},
   "outputs": [
    {
     "name": "stdout",
     "output_type": "stream",
     "text": [
      "Sum: 150\n"
     ]
    }
   ],
   "source": [
    "numbers = [10, 20, 30, 40, 50]\n",
    "total = 0\n",
    "for num in numbers:\n",
    "    total += num\n",
    "print(\"Sum:\", total)"
   ]
  },
  {
   "cell_type": "markdown",
   "id": "bba0ee8d",
   "metadata": {},
   "source": [
    "Sort and Search\n",
    "Task:\n",
    "\n",
    "Sort a list of numbers.\n",
    "\n",
    "Check if a specific number exists."
   ]
  },
  {
   "cell_type": "code",
   "execution_count": 3,
   "id": "bd082205",
   "metadata": {},
   "outputs": [
    {
     "name": "stdout",
     "output_type": "stream",
     "text": [
      "Sorted: [5, 12, 23, 42, 88]\n",
      "12 is in the list\n"
     ]
    }
   ],
   "source": [
    "nums = [42, 5, 12, 88, 23]\n",
    "nums.sort()\n",
    "print(\"Sorted:\", nums)\n",
    "if 12 in nums:\n",
    "    print(\"12 is in the list\")\n"
   ]
  },
  {
   "cell_type": "markdown",
   "id": "d4741587",
   "metadata": {},
   "source": [
    "Sum of Elements in a List"
   ]
  },
  {
   "cell_type": "code",
   "execution_count": 4,
   "id": "1e74f825",
   "metadata": {},
   "outputs": [
    {
     "name": "stdout",
     "output_type": "stream",
     "text": [
      "Sum: 50\n"
     ]
    }
   ],
   "source": [
    "numbers = [5, 10, 15, 20]\n",
    "total = sum(numbers)\n",
    "print(\"Sum:\", total)\n"
   ]
  },
  {
   "cell_type": "markdown",
   "id": "29b9b689",
   "metadata": {},
   "source": [
    "Find the Largest Number\n"
   ]
  },
  {
   "cell_type": "code",
   "execution_count": 5,
   "id": "d5e3c9c9",
   "metadata": {},
   "outputs": [
    {
     "name": "stdout",
     "output_type": "stream",
     "text": [
      "Maximum: 15\n"
     ]
    }
   ],
   "source": [
    "nums = [2, 8, 1, 15, 4]\n",
    "print(\"Maximum:\", max(nums))\n"
   ]
  },
  {
   "cell_type": "markdown",
   "id": "36c52d0b",
   "metadata": {},
   "source": [
    " Reverse a List"
   ]
  },
  {
   "cell_type": "code",
   "execution_count": 6,
   "id": "8ee04dd3",
   "metadata": {},
   "outputs": [
    {
     "name": "stdout",
     "output_type": "stream",
     "text": [
      "Reversed list: [40, 30, 20, 10]\n"
     ]
    }
   ],
   "source": [
    "data = [10, 20, 30, 40]\n",
    "data.reverse()\n",
    "print(\"Reversed list:\", data)\n"
   ]
  },
  {
   "cell_type": "markdown",
   "id": "0baabe4a",
   "metadata": {},
   "source": [
    "tuples:  A tuple is a collection data type in Python, just like a list. However, tuples are \n",
    "\n",
    "immutable, which means you cannot change, add, or remove items after the tuple is created."
   ]
  },
  {
   "cell_type": "code",
   "execution_count": 7,
   "id": "27b88f5c",
   "metadata": {},
   "outputs": [
    {
     "name": "stdout",
     "output_type": "stream",
     "text": [
      "a\n",
      "c\n"
     ]
    }
   ],
   "source": [
    "t = (\"a\", \"b\", \"c\")\n",
    "print(t[0])     # Output: 'a'\n",
    "print(t[-1])    # Output: 'c'\n"
   ]
  },
  {
   "cell_type": "markdown",
   "id": "0b9bdabc",
   "metadata": {},
   "source": [
    "Dictionary: In Python, a dictionary is a built-in data structure that stores data in key-value pairs. It allows for efficient data retrieval, modification, and storage, making it ideal for various programming tasks.\n",
    "Accessing Values:\n",
    " Use square brackets [] or the get() method to access values."
   ]
  },
  {
   "cell_type": "code",
   "execution_count": 4,
   "id": "c4185af9",
   "metadata": {},
   "outputs": [
    {
     "name": "stdout",
     "output_type": "stream",
     "text": [
      "Ali\n",
      "Ali\n",
      "21\n",
      "Computer Science\n"
     ]
    }
   ],
   "source": [
    "student = {\n",
    "    \"name\": \"Ali\",\n",
    "    \"age\": 21,\n",
    "    \"major\": \"Computer Science\"\n",
    "}\n",
    "print(student[\"name\"])\n",
    "print(student.get(\"name\"))\n",
    "print(student[\"age\"])\n",
    "print(student[\"major\"])"
   ]
  },
  {
   "cell_type": "markdown",
   "id": "505c1b8d",
   "metadata": {},
   "source": []
  },
  {
   "cell_type": "code",
   "execution_count": 2,
   "id": "2bfc279b",
   "metadata": {},
   "outputs": [
    {
     "ename": "ValueError",
     "evalue": "could not convert string to float: ''",
     "output_type": "error",
     "traceback": [
      "\u001b[31m---------------------------------------------------------------------------\u001b[39m",
      "\u001b[31mValueError\u001b[39m                                Traceback (most recent call last)",
      "\u001b[36mCell\u001b[39m\u001b[36m \u001b[39m\u001b[32mIn[2]\u001b[39m\u001b[32m, line 3\u001b[39m\n\u001b[32m      1\u001b[39m \u001b[38;5;66;03m# Get input from user in primitive data types\u001b[39;00m\n\u001b[32m      2\u001b[39m str_value = \u001b[38;5;28minput\u001b[39m(\u001b[33m\"\u001b[39m\u001b[33mEnter a string: \u001b[39m\u001b[33m\"\u001b[39m) \u001b[38;5;66;03m# e.g., python\u001b[39;00m\n\u001b[32m----> \u001b[39m\u001b[32m3\u001b[39m flo_value = \u001b[38;5;28;43mfloat\u001b[39;49m\u001b[43m(\u001b[49m\u001b[38;5;28;43minput\u001b[39;49m\u001b[43m(\u001b[49m\u001b[33;43m\"\u001b[39;49m\u001b[33;43mEnter a float number: \u001b[39;49m\u001b[33;43m\"\u001b[39;49m\u001b[43m)\u001b[49m\u001b[43m)\u001b[49m \u001b[38;5;66;03m# e.g., 3.14\u001b[39;00m\n\u001b[32m      4\u001b[39m integer_value = \u001b[38;5;28mint\u001b[39m(\u001b[38;5;28minput\u001b[39m(\u001b[33m\"\u001b[39m\u001b[33mEnter an integer: \u001b[39m\u001b[33m\"\u001b[39m)) \u001b[38;5;66;03m# e.g., 23\u001b[39;00m\n\u001b[32m      5\u001b[39m bol_value = \u001b[38;5;28minput\u001b[39m(\u001b[33m\"\u001b[39m\u001b[33mEnter a boolean value (True/False): \u001b[39m\u001b[33m\"\u001b[39m).strip().lower()==\u001b[33m'\u001b[39m\u001b[33mtrue\u001b[39m\u001b[33m'\u001b[39m\n",
      "\u001b[31mValueError\u001b[39m: could not convert string to float: ''"
     ]
    }
   ],
   "source": [
    "# Get input from user in primitive data types\n",
    "str_value = input(\"Enter a string: \") # e.g., python\n",
    "flo_value = float(input(\"Enter a float number: \")) # e.g., 3.14\n",
    "integer_value = int(input(\"Enter an integer: \")) # e.g., 23\n",
    "bol_value = input(\"Enter a boolean value (True/False): \").strip().lower()=='true'\n",
    " # e.g., True\n",
    "# Print all input values\n",
    "print(f\"String: {str_value}\")\n",
    "print(f\"Float: {flo_value}\")\n",
    "print(f\"Integer: {integer_value}\")\n",
    "print(f\"Boolean: {bol_value}\")\n",
    "# Using string operation (uppercase)\n",
    "print(f\"Uppercase String: {str_value.upper()}\")\n",
    "# Check if the input number is even or odd\n",
    "if integer_value % 2 != 0:\n",
    " print(f\"The number {integer_value} is Odd\")\n",
    "else:\n",
    " print(f\"The number {integer_value} is Even\")\n",
    "# Float multiplied by 2\n",
    "print(f\"Doubled float: {flo_value * 2}\")"
   ]
  },
  {
   "cell_type": "markdown",
   "id": "dcc81467",
   "metadata": {},
   "source": [
    "Arthematic Operators:\n",
    "Operator\t        Description\t               Example\n",
    "==\t                Equal to\t               a == b\n",
    "!=\t                Not equal to\t           a != b\n",
    ">\t                Greater than\t           a > b\n",
    "<\t                Less than\t               a < b\n",
    ">=\t                Greater or equal\t       a >= b\n",
    "<=\t                Less or equal\t           a <= b"
   ]
  },
  {
   "cell_type": "code",
   "execution_count": 1,
   "id": "6d691a5a",
   "metadata": {},
   "outputs": [
    {
     "name": "stdout",
     "output_type": "stream",
     "text": [
      "Equal: False\n",
      "Not Equal: True\n",
      "Greater: False\n",
      "Less: True\n",
      "Greater or Equal: False\n",
      "Less or Equal: True\n"
     ]
    }
   ],
   "source": [
    "a = 5\n",
    "b = 10\n",
    "\n",
    "print(\"Equal:\", a == b)\n",
    "print(\"Not Equal:\", a != b)\n",
    "print(\"Greater:\", a > b)\n",
    "print(\"Less:\", a < b)\n",
    "print(\"Greater or Equal:\", a >= b)\n",
    "print(\"Less or Equal:\", a <= b)\n"
   ]
  },
  {
   "cell_type": "markdown",
   "id": "19014cee",
   "metadata": {},
   "source": [
    "Logical operators:\n",
    "Operator\t             Description\t        Example\n",
    "and\t                     True if both are true\ta and b\n",
    "or\t                     True if one is true\ta or b\n",
    "not\t                     Inverts result\t        not a"
   ]
  },
  {
   "cell_type": "code",
   "execution_count": 1,
   "id": "d4dbb942",
   "metadata": {},
   "outputs": [
    {
     "name": "stdout",
     "output_type": "stream",
     "text": [
      "AND: False\n",
      "OR: True\n",
      "NOT A: False\n"
     ]
    }
   ],
   "source": [
    "a = True\n",
    "b = False\n",
    "\n",
    "print(\"AND:\", a and b)\n",
    "print(\"OR:\", a or b)\n",
    "print(\"NOT A:\", not a)"
   ]
  },
  {
   "cell_type": "code",
   "execution_count": 5,
   "id": "34b32ec8",
   "metadata": {},
   "outputs": [
    {
     "name": "stdout",
     "output_type": "stream",
     "text": [
      "0\n",
      "1\n",
      "2\n",
      "3\n",
      "4\n",
      "p\n",
      "y\n",
      "t\n",
      "h\n",
      "o\n",
      "n\n",
      "Count is 0\n",
      "Count is 1\n",
      "Count is 2\n",
      "0\n",
      "1\n",
      "2\n"
     ]
    }
   ],
   "source": [
    "for i in range(5):\n",
    "    print(i)\n",
    "for letter in \"python\":\n",
    "    print(letter)\n",
    "count = 0\n",
    "while count < 3:\n",
    "    print(\"Count is\", count)\n",
    "    count += 1\n",
    "for i in range(5):\n",
    "    if i == 3:\n",
    "        break  # stop loop when i is 3\n",
    "    print(i)"
   ]
  },
  {
   "cell_type": "code",
   "execution_count": 3,
   "id": "8f3bede8",
   "metadata": {},
   "outputs": [
    {
     "name": "stdout",
     "output_type": "stream",
     "text": [
      "Index 0: apple\n",
      "Index 1: banana\n",
      "Index 2: cherry\n"
     ]
    }
   ],
   "source": [
    "fruits = [\"apple\", \"banana\", \"cherry\"]\n",
    "\n",
    "for index, fruit in enumerate(fruits):\n",
    "    print(f\"Index {index}: {fruit}\")\n"
   ]
  }
 ],
 "metadata": {
  "kernelspec": {
   "display_name": "base",
   "language": "python",
   "name": "python3"
  },
  "language_info": {
   "codemirror_mode": {
    "name": "ipython",
    "version": 3
   },
   "file_extension": ".py",
   "mimetype": "text/x-python",
   "name": "python",
   "nbconvert_exporter": "python",
   "pygments_lexer": "ipython3",
   "version": "3.12.9"
  }
 },
 "nbformat": 4,
 "nbformat_minor": 5
}
